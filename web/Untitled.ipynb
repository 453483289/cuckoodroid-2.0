{
 "cells": [
  {
   "cell_type": "code",
   "execution_count": 6,
   "metadata": {
    "collapsed": false
   },
   "outputs": [
    {
     "name": "stdout",
     "output_type": "stream",
     "text": [
      "432\n"
     ]
    },
    {
     "data": {
      "text/plain": [
       "-1"
      ]
     },
     "execution_count": 6,
     "metadata": {},
     "output_type": "execute_result"
    }
   ],
   "source": [
    "def test(a,b,c):\n",
    "    d = a + b - c\n",
    "    print d\n",
    "    if d:\n",
    "        return -1\n",
    "    else:\n",
    "        return d\n",
    "\n",
    "test(434,2,4)\n",
    "    "
   ]
  },
  {
   "cell_type": "code",
   "execution_count": 7,
   "metadata": {
    "collapsed": true
   },
   "outputs": [],
   "source": [
    "import dis\n"
   ]
  },
  {
   "cell_type": "code",
   "execution_count": null,
   "metadata": {
    "collapsed": true
   },
   "outputs": [],
   "source": []
  },
  {
   "cell_type": "code",
   "execution_count": 8,
   "metadata": {
    "collapsed": false
   },
   "outputs": [
    {
     "name": "stdout",
     "output_type": "stream",
     "text": [
      "  2           0 LOAD_FAST                0 (a)\n",
      "              3 LOAD_FAST                1 (b)\n",
      "              6 BINARY_ADD          \n",
      "              7 LOAD_FAST                2 (c)\n",
      "             10 BINARY_SUBTRACT     \n",
      "             11 STORE_FAST               3 (d)\n",
      "\n",
      "  3          14 LOAD_FAST                3 (d)\n",
      "             17 PRINT_ITEM          \n",
      "             18 PRINT_NEWLINE       \n",
      "\n",
      "  4          19 LOAD_FAST                3 (d)\n",
      "             22 POP_JUMP_IF_FALSE       29\n",
      "\n",
      "  5          25 LOAD_CONST               1 (-1)\n",
      "             28 RETURN_VALUE        \n",
      "\n",
      "  7     >>   29 LOAD_FAST                3 (d)\n",
      "             32 RETURN_VALUE        \n",
      "             33 LOAD_CONST               0 (None)\n",
      "             36 RETURN_VALUE        \n"
     ]
    }
   ],
   "source": [
    "dis.dis(test)"
   ]
  },
  {
   "cell_type": "code",
   "execution_count": null,
   "metadata": {
    "collapsed": true
   },
   "outputs": [],
   "source": []
  },
  {
   "cell_type": "code",
   "execution_count": null,
   "metadata": {
    "collapsed": true
   },
   "outputs": [],
   "source": []
  }
 ],
 "metadata": {
  "kernelspec": {
   "display_name": "Python 2",
   "language": "python",
   "name": "python2"
  },
  "language_info": {
   "codemirror_mode": {
    "name": "ipython",
    "version": 2
   },
   "file_extension": ".py",
   "mimetype": "text/x-python",
   "name": "python",
   "nbconvert_exporter": "python",
   "pygments_lexer": "ipython2",
   "version": "2.7.10"
  }
 },
 "nbformat": 4,
 "nbformat_minor": 2
}
